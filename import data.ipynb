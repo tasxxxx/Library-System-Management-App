{
 "cells": [
  {
   "cell_type": "code",
   "execution_count": 1,
   "id": "39d00df1-64d6-41c3-a82f-c95dcb4192ba",
   "metadata": {},
   "outputs": [],
   "source": [
    "import pandas as pd \n",
    "import sqlalchemy as db\n",
    "import pymysql "
   ]
  },
  {
   "cell_type": "code",
   "execution_count": 2,
   "id": "5ee42dfe-1bfd-43e7-9582-2f5264dbe4b8",
   "metadata": {},
   "outputs": [],
   "source": [
    "# CONVERSION OF TEXT FILE TO CSV: TO DO FOR EACH .txt FILE\n",
    "# read_file = pd.read_csv('LibMems.txt')\n",
    "# read_file.to_csv('LibMems.csv', index=None)"
   ]
  },
  {
   "cell_type": "code",
   "execution_count": 16,
   "id": "4b9e921f-90d5-4203-ac44-7830b0e63a62",
   "metadata": {},
   "outputs": [],
   "source": [
    "# CLEANING UP CSV FILES TO HANDLE MULTIPLE AUTHORS \n",
    "# books = pd.read_csv('LibBooks.csv')\n",
    "# books.rename(columns={\"Authors\": \"Author 1\", \n",
    "#                       \"Unnamed: 3\": \"Author 2\", \n",
    "#                       \"Unnamed: 4\": \"Author 3\"},\n",
    "#             inplace=True)\n",
    "#\n",
    "# REMOVAL OF AUTHORS FROM BOOKS.CSV\n",
    "# books.drop(columns = ['Author 1', 'Author 2', 'Author 3'], inplace = True)"
   ]
  },
  {
   "cell_type": "code",
   "execution_count": 8,
   "id": "f5015b48-ed16-4e38-8570-d12561fda216",
   "metadata": {},
   "outputs": [],
   "source": [
    "# CREATE SEPARATE CSV FILE FOR AUTHORS DATA\n",
    "# authors = books[['Accession Number','Author 1', 'Author 2', 'Author 3']]\n",
    "# authors.to_csv('BookAuthors.csv', index = False)"
   ]
  },
  {
   "cell_type": "code",
   "execution_count": null,
   "id": "63c181b5-ab18-4c01-955c-f2104726c797",
   "metadata": {},
   "outputs": [],
   "source": []
  },
  {
   "cell_type": "code",
   "execution_count": 12,
   "id": "f9cdd749-8b60-4749-829f-098bbe7a9007",
   "metadata": {},
   "outputs": [],
   "source": []
  },
  {
   "cell_type": "code",
   "execution_count": 11,
   "id": "8bd9ec10-39f1-4f46-80fb-08230a6f8568",
   "metadata": {},
   "outputs": [],
   "source": [
    "# CONNECTING TO THE MYSQL DATABASE\n",
    "USERNAME = \"root\"\n",
    "PASSWORD = \"\" # your password\n",
    "HOST = \"localhost\"\n",
    "PORT = 3306\n",
    "DB = \"Library\"\n",
    "\n",
    "# First argument is the URL of the SQL DB, has a standard form of dialect[+driver]://user:password@host/dbname[?key=value..] \n",
    "engine = db.create_engine('mysql+pymysql://{0}:{1}@{2}:{3}/{4}'\n",
    "                       .format(USERNAME, PASSWORD, HOST, PORT, DB))\n",
    "\n",
    "# Create a connection so that SQL statements can be invoked. \n",
    "# Object returned is a Cursor Result which provides methods for fetching rows.\n",
    "connection = engine.connect()\n",
    "\n",
    "# Can use t = db.text(\"SQL CODE CHUNK\")\n",
    "# result = connection.execute(t)"
   ]
  },
  {
   "cell_type": "code",
   "execution_count": null,
   "id": "2dbd9f58-fea3-4a0c-9161-56b8930cf05d",
   "metadata": {},
   "outputs": [],
   "source": []
  },
  {
   "cell_type": "code",
   "execution_count": null,
   "id": "0570f5c4-30a0-4a18-bd35-b059cd9cd2c2",
   "metadata": {},
   "outputs": [],
   "source": []
  }
 ],
 "metadata": {
  "kernelspec": {
   "display_name": "Python 3",
   "language": "python",
   "name": "python3"
  },
  "language_info": {
   "codemirror_mode": {
    "name": "ipython",
    "version": 3
   },
   "file_extension": ".py",
   "mimetype": "text/x-python",
   "name": "python",
   "nbconvert_exporter": "python",
   "pygments_lexer": "ipython3",
   "version": "3.9.0"
  }
 },
 "nbformat": 4,
 "nbformat_minor": 5
}
